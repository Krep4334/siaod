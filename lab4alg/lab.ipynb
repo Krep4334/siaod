{
 "cells": [
  {
   "cell_type": "markdown",
   "metadata": {},
   "source": [
    " Импорт библиотек и функция замера времени"
   ]
  },
  {
   "cell_type": "code",
   "execution_count": 13,
   "metadata": {},
   "outputs": [],
   "source": [
    "import random\n",
    "import time  # Для замера времени\n",
    "\n",
    "# Функция для замера времени выполнения\n",
    "def measure_time(func, *args):\n",
    "    start_time = time.time()\n",
    "    result = func(*args)\n",
    "    end_time = time.time()\n",
    "    print(f\"{func.__name__} выполнен за {end_time - start_time:.6f} секунд\")\n",
    "    return result\n"
   ]
  },
  {
   "cell_type": "markdown",
   "metadata": {},
   "source": [
    "Бинарный поиск"
   ]
  },
  {
   "cell_type": "code",
   "execution_count": 14,
   "metadata": {},
   "outputs": [],
   "source": [
    "def binary_search(arr, target):\n",
    "    left, right = 0, len(arr) - 1\n",
    "    while left <= right:\n",
    "        mid = (left + right) // 2\n",
    "        if arr[mid] == target:\n",
    "            return mid\n",
    "        elif arr[mid] < target:\n",
    "            left = mid + 1\n",
    "        else:\n",
    "            right = mid - 1\n",
    "    return -1\n"
   ]
  },
  {
   "cell_type": "markdown",
   "metadata": {},
   "source": [
    "Фибоначчиев поиск"
   ]
  },
  {
   "cell_type": "code",
   "execution_count": 15,
   "metadata": {},
   "outputs": [],
   "source": [
    "def fibonacci_search(arr, target):\n",
    "    def fibonacci_gen(n):\n",
    "        fib = [0, 1]\n",
    "        while fib[-1] < n:\n",
    "            fib.append(fib[-1] + fib[-2])\n",
    "        return fib\n",
    "\n",
    "    fib = fibonacci_gen(len(arr))\n",
    "    offset = -1\n",
    "    n = len(arr)\n",
    "    while fib[-1] > 1:\n",
    "        i = min(offset + fib[-2], n - 1)\n",
    "        if arr[i] < target:\n",
    "            fib = fib[:-1]\n",
    "            offset = i\n",
    "        elif arr[i] > target:\n",
    "            fib = fib[:-2]\n",
    "        else:\n",
    "            return i\n",
    "    if fib[-1] == 1 and arr[offset + 1] == target:\n",
    "        return offset + 1\n",
    "    return -1\n"
   ]
  },
  {
   "cell_type": "markdown",
   "metadata": {},
   "source": [
    "Интерполяционный поиск"
   ]
  },
  {
   "cell_type": "code",
   "execution_count": 16,
   "metadata": {},
   "outputs": [],
   "source": [
    "def interpolation_search(arr, target):\n",
    "    left, right = 0, len(arr) - 1\n",
    "    while left <= right and arr[left] <= target <= arr[right]:\n",
    "        pos = left + ((target - arr[left]) * (right - left)) // (arr[right] - arr[left])\n",
    "        if arr[pos] == target:\n",
    "            return pos\n",
    "        elif arr[pos] < target:\n",
    "            left = pos + 1\n",
    "        else:\n",
    "            right = pos - 1\n",
    "    return -1\n"
   ]
  },
  {
   "cell_type": "markdown",
   "metadata": {},
   "source": [
    " Бинарное дерево"
   ]
  },
  {
   "cell_type": "code",
   "execution_count": 17,
   "metadata": {},
   "outputs": [],
   "source": [
    "class Node:\n",
    "    def __init__(self, key):\n",
    "        self.left = None\n",
    "        self.right = None\n",
    "        self.val = key\n",
    "\n",
    "def insert(root, key):\n",
    "    if root is None:\n",
    "        return Node(key)\n",
    "    if root.val < key:\n",
    "        root.right = insert(root.right, key)\n",
    "    else:\n",
    "        root.left = insert(root.left, key)\n",
    "    return root\n",
    "\n",
    "def search(root, key):\n",
    "    if root is None or root.val == key:\n",
    "        return root\n",
    "    if root.val < key:\n",
    "        return search(root.right, key)\n",
    "    return search(root.left, key)\n"
   ]
  },
  {
   "cell_type": "markdown",
   "metadata": {},
   "source": [
    "Простое рехэширование"
   ]
  },
  {
   "cell_type": "code",
   "execution_count": 18,
   "metadata": {},
   "outputs": [],
   "source": [
    "class HashTable:\n",
    "    def __init__(self, size):\n",
    "        self.size = size\n",
    "        self.table = [None] * size\n",
    "\n",
    "    def hash(self, key):\n",
    "        return key % self.size\n",
    "\n",
    "    def insert(self, key):\n",
    "        index = self.hash(key)\n",
    "        while self.table[index] is not None:\n",
    "            index = (index + 1) % self.size\n",
    "        self.table[index] = key\n",
    "\n",
    "    def search(self, key):\n",
    "        index = self.hash(key)\n",
    "        while self.table[index] is not None:\n",
    "            if self.table[index] == key:\n",
    "                return index\n",
    "            index = (index + 1) % self.size\n",
    "        return -1\n"
   ]
  },
  {
   "cell_type": "markdown",
   "metadata": {},
   "source": [
    " Рехэширование с псевдослучайными числами"
   ]
  },
  {
   "cell_type": "code",
   "execution_count": 19,
   "metadata": {},
   "outputs": [],
   "source": [
    "class RandomRehashHashTable:\n",
    "    def __init__(self, size):\n",
    "        self.size = size\n",
    "        self.table = [None] * size\n",
    "\n",
    "    def hash(self, key):\n",
    "        return key % self.size\n",
    "\n",
    "    def random_step(self, key):\n",
    "        return (key * random.randint()) % self.size\n",
    "\n",
    "    def insert(self, key):\n",
    "        index = self.hash(key)\n",
    "        step = self.random_step(key)\n",
    "        while self.table[index] is not None:\n",
    "            index = (index + step) % self.size\n",
    "        self.table[index] = key\n",
    "\n",
    "    def search(self, key):\n",
    "        index = self.hash(key)\n",
    "        step = self.random_step(key)\n",
    "        while self.table[index] is not None:\n",
    "            if self.table[index] == key:\n",
    "                return index\n",
    "            index = (index + step) % self.size\n",
    "        return -1\n"
   ]
  },
  {
   "cell_type": "markdown",
   "metadata": {},
   "source": [
    "Метод цепочек"
   ]
  },
  {
   "cell_type": "code",
   "execution_count": 20,
   "metadata": {},
   "outputs": [],
   "source": [
    "class ChainingHashTable:\n",
    "    def __init__(self, size):\n",
    "        self.size = size\n",
    "        self.table = [[] for _ in range(size)]\n",
    "\n",
    "    def hash(self, key):\n",
    "        return key % self.size\n",
    "\n",
    "    def insert(self, key):\n",
    "        index = self.hash(key)\n",
    "        self.table[index].append(key)\n",
    "\n",
    "    def search(self, key):\n",
    "        index = self.hash(key)\n",
    "        for item in self.table[index]:\n",
    "            if item == key:\n",
    "                return index\n",
    "        return -1\n"
   ]
  },
  {
   "cell_type": "markdown",
   "metadata": {},
   "source": [
    "Решение задачи о 8 ферзях"
   ]
  },
  {
   "cell_type": "code",
   "execution_count": 21,
   "metadata": {},
   "outputs": [],
   "source": [
    "def is_safe(board, row, col):\n",
    "    for i in range(col):\n",
    "        if board[i] == row or abs(board[i] - row) == abs(i - col):\n",
    "            return False\n",
    "    return True\n",
    "\n",
    "def solve_queens(board, col):\n",
    "    if col >= 8:\n",
    "        return True\n",
    "    for i in range(8):\n",
    "        if is_safe(board, i, col):\n",
    "            board[col] = i\n",
    "            if solve_queens(board, col + 1):\n",
    "                return True\n",
    "            board[col] = -1\n",
    "    return False\n",
    "\n",
    "def print_board(board):\n",
    "    for i in range(8):\n",
    "        row = [\"Q\" if j == board[i] else \".\" for j in range(8)]\n",
    "        print(\" \".join(row))\n"
   ]
  },
  {
   "cell_type": "markdown",
   "metadata": {},
   "source": [
    "Основная программа"
   ]
  },
  {
   "cell_type": "code",
   "execution_count": 22,
   "metadata": {},
   "outputs": [
    {
     "name": "stdout",
     "output_type": "stream",
     "text": [
      "Ищем элемент 10098 с помощью бинарного поиска...\n",
      "binary_search выполнен за 0.000004 секунд\n",
      "Элемент найден на позиции: 96\n",
      "Поиск элемента в бинарном дереве...\n",
      "search выполнен за 0.000005 секунд\n",
      "Элемент найден: 10098\n",
      "Поиск элемента в хэш-таблице с цепочками...\n",
      "search выполнен за 0.000000 секунд\n",
      "Элемент найден в цепочке: 98\n",
      "Решение задачи о 8 ферзях...\n",
      "solve_queens выполнен за 0.000207 секунд\n",
      "Q . . . . . . .\n",
      ". . . . Q . . .\n",
      ". . . . . . . Q\n",
      ". . . . . Q . .\n",
      ". . Q . . . . .\n",
      ". . . . . . Q .\n",
      ". Q . . . . . .\n",
      ". . . Q . . . .\n"
     ]
    }
   ],
   "source": [
    "# Генерация случайных данных\n",
    "data = random.sample(range(1, 1000000), 10000)\n",
    "sorted_data = sorted(data)\n",
    "target = random.choice(sorted_data)\n",
    "\n",
    "# Бинарный поиск\n",
    "print(f\"Ищем элемент {target} с помощью бинарного поиска...\")\n",
    "index = measure_time(binary_search, sorted_data, target)\n",
    "print(f\"Элемент найден на позиции: {index}\")\n",
    "\n",
    "# Бинарное дерево\n",
    "root = None\n",
    "for num in sorted_data[:100]:\n",
    "    root = insert(root, num)\n",
    "print(\"Поиск элемента в бинарном дереве...\")\n",
    "result = measure_time(search, root, target)\n",
    "print(f\"Элемент найден: {result.val if result else 'Не найден'}\")\n",
    "\n",
    "# Хэш-таблица с цепочками\n",
    "hash_table = ChainingHashTable(100)\n",
    "for num in sorted_data[:1000]:\n",
    "    hash_table.insert(num)\n",
    "print(\"Поиск элемента в хэш-таблице с цепочками...\")\n",
    "index = measure_time(hash_table.search, target)\n",
    "print(f\"Элемент найден в цепочке: {index}\")\n",
    "\n",
    "# Решение задачи о 8 ферзях\n",
    "print(\"Решение задачи о 8 ферзях...\")\n",
    "board = [-1] * 8  # Создаем массив для хранения позиций ферзей\n",
    "measure_time(solve_queens, board, 0)\n",
    "print_board(board)\n"
   ]
  }
 ],
 "metadata": {
  "kernelspec": {
   "display_name": "Python 3",
   "language": "python",
   "name": "python3"
  },
  "language_info": {
   "codemirror_mode": {
    "name": "ipython",
    "version": 3
   },
   "file_extension": ".py",
   "mimetype": "text/x-python",
   "name": "python",
   "nbconvert_exporter": "python",
   "pygments_lexer": "ipython3",
   "version": "3.12.0"
  }
 },
 "nbformat": 4,
 "nbformat_minor": 2
}
